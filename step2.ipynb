{
 "cells": [
  {
   "cell_type": "code",
   "execution_count": 2,
   "metadata": {},
   "outputs": [],
   "source": [
    "import subprocess\n",
    "import os\n",
    "import json\n",
    "import multiprocessing as mp\n",
    "from image_processing_utils import extract_and_cache_metadata\n",
    "\n",
    "# Setup source and destination directories\n",
    "source_directory = \"C:\\\\Users\\\\ur4me\\\\Tests Image Dataset\\\\Tests Image Dataset\"  # Update this to your source directory\n",
    "metadata_directory = \"C:\\\\Users\\\\ur4me\\\\Tests Image Dataset\\\\Metadata\"  # Update this to your desired metadata output directory\n",
    "\n",
    "# Ensure the output directory exists\n",
    "if not os.path.exists(metadata_directory):\n",
    "    os.makedirs(metadata_directory)"
   ]
  },
  {
   "cell_type": "code",
   "execution_count": 3,
   "metadata": {},
   "outputs": [],
   "source": [
    "# get DNG files only\n",
    "filenames = os.listdir(source_directory)\n",
    "dng_files = [file for file in filenames if file.endswith('.dng')]"
   ]
  },
  {
   "cell_type": "code",
   "execution_count": 4,
   "metadata": {},
   "outputs": [
    {
     "name": "stdout",
     "output_type": "stream",
     "text": [
      "Maximum available processes (CPUs): 4\n"
     ]
    }
   ],
   "source": [
    "# Use multiprocessing to run the function on all files \n",
    "cpu_count = mp.cpu_count()\n",
    "print(f\"Maximum available processes (CPUs): {cpu_count}\")\n",
    "if __name__ == \"__main__\":\n",
    "    filenames = os.listdir(source_directory)\n",
    "    with mp.Pool(processes=mp.cpu_count()) as pool:\n",
    "        pool.map(extract_and_cache_metadata, dng_files)\n"
   ]
  }
 ],
 "metadata": {
  "kernelspec": {
   "display_name": "base",
   "language": "python",
   "name": "python3"
  },
  "language_info": {
   "codemirror_mode": {
    "name": "ipython",
    "version": 3
   },
   "file_extension": ".py",
   "mimetype": "text/x-python",
   "name": "python",
   "nbconvert_exporter": "python",
   "pygments_lexer": "ipython3",
   "version": "3.11.7"
  }
 },
 "nbformat": 4,
 "nbformat_minor": 2
}
