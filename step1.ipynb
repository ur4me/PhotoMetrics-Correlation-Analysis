{
 "cells": [
  {
   "cell_type": "code",
   "execution_count": 1,
   "metadata": {},
   "outputs": [],
   "source": [
    "import multiprocessing as mp\n",
    "import subprocess\n",
    "import os\n",
    "from image_processing_utils import extract_jpg_with_orientation\n",
    "\n",
    "# Setup source and destination directories\n",
    "source_directory = \"C:\\\\Users\\\\ur4me\\\\Tests Image Dataset\\\\Tests Image Dataset\"  # Update this path to where your DNG files are stored\n",
    "jpg_directory = \"C:\\\\Users\\\\ur4me\\\\Tests Image Dataset\\\\Extract JPG\"  # Update this path to where you want the JPGs saved\n",
    "\n",
    "# Ensure the output directory exists\n",
    "if not os.path.exists(jpg_directory):\n",
    "    os.makedirs(jpg_directory)"
   ]
  },
  {
   "cell_type": "code",
   "execution_count": 2,
   "metadata": {},
   "outputs": [],
   "source": [
    "# get DNG files only\n",
    "filenames = os.listdir(source_directory)\n",
    "dng_files = [file for file in filenames if file.endswith(\".dng\")]"
   ]
  },
  {
   "cell_type": "code",
   "execution_count": 3,
   "metadata": {},
   "outputs": [
    {
     "name": "stdout",
     "output_type": "stream",
     "text": [
      "Maximum available processes (CPUs): 4\n"
     ]
    }
   ],
   "source": [
    "# Use multiprocessing to run the function on all files # Run for 24mins\n",
    "cpu_count = mp.cpu_count()\n",
    "print(f\"Maximum available processes (CPUs): {cpu_count}\")\n",
    "if __name__ == \"__main__\":\n",
    "    with mp.Pool(processes=mp.cpu_count()) as pool:\n",
    "        pool.map(extract_jpg_with_orientation, dng_files)"
   ]
  }
 ],
 "metadata": {
  "kernelspec": {
   "display_name": "base",
   "language": "python",
   "name": "python3"
  },
  "language_info": {
   "codemirror_mode": {
    "name": "ipython",
    "version": 3
   },
   "file_extension": ".py",
   "mimetype": "text/x-python",
   "name": "python",
   "nbconvert_exporter": "python",
   "pygments_lexer": "ipython3",
   "version": "3.11.7"
  }
 },
 "nbformat": 4,
 "nbformat_minor": 2
}
