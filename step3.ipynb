{
 "cells": [
  {
   "cell_type": "code",
   "execution_count": 4,
   "metadata": {},
   "outputs": [],
   "source": [
    "from PIL import Image\n",
    "import numpy as np\n",
    "import os\n",
    "import json\n",
    "from image_processing_utils import create_hsv_histogram\n",
    "import multiprocessing as mp\n",
    "import os\n",
    "\n",
    "# Setup source and destination directories\n",
    "jpg_directory = \"C:\\\\Users\\\\ur4me\\\\Tests Image Dataset\\\\Extract JPG\"  # Use your output directory from Step 1\n",
    "histogram_directory = \"C:\\\\Users\\\\ur4me\\\\Tests Image Dataset\\\\Histograms\"  # Directory to store histograms\n",
    "\n",
    "if not os.path.exists(histogram_directory):\n",
    "    os.makedirs(histogram_directory)\n",
    "\n",
    "# Prepare list of paths for multiprocessing\n",
    "paths_list = []\n",
    "for jpg_file in os.listdir(jpg_directory):\n",
    "    if jpg_file.endswith(\".jpg\"):\n",
    "        image_path = os.path.join(jpg_directory, jpg_file)\n",
    "        histogram_path = os.path.join(histogram_directory, jpg_file.replace('.jpg', '_histogram.json'))\n",
    "        paths_list.append((image_path, histogram_path))  # Append as tuples"
   ]
  },
  {
   "cell_type": "code",
   "execution_count": null,
   "metadata": {},
   "outputs": [],
   "source": [
    "# Use multiprocessing to run the function on all files \n",
    "if __name__ == \"__main__\":\n",
    "    cpu_count = mp.cpu_count()\n",
    "    print(f\"Maximum available processes (CPUs): {cpu_count}\")\n",
    "    \n",
    "    with mp.Pool(processes=cpu_count) as pool:\n",
    "        pool.map(create_hsv_histogram, paths_list)\n"
   ]
  }
 ],
 "metadata": {
  "kernelspec": {
   "display_name": "base",
   "language": "python",
   "name": "python3"
  },
  "language_info": {
   "codemirror_mode": {
    "name": "ipython",
    "version": 3
   },
   "file_extension": ".py",
   "mimetype": "text/x-python",
   "name": "python",
   "nbconvert_exporter": "python",
   "pygments_lexer": "ipython3",
   "version": "3.11.7"
  }
 },
 "nbformat": 4,
 "nbformat_minor": 2
}
